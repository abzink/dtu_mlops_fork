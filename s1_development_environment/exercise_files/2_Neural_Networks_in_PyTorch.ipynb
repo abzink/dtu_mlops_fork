{
 "cells": [
  {
   "cell_type": "markdown",
   "metadata": {},
   "source": [
    "# Neural networks with PyTorch\n",
    "\n",
    "Deep learning networks tend to be massive with dozens or hundreds of layers, that's where the term \"deep\" comes from. You can build one of these deep networks using only weight matrices as we did in the previous notebook, but in general it's very cumbersome and difficult to implement. PyTorch has a nice module `nn` that provides a nice way to efficiently build large neural networks."
   ]
  },
  {
   "cell_type": "code",
   "execution_count": 2,
   "metadata": {},
   "outputs": [],
   "source": [
    "# Import necessary packages\n",
    "\n",
    "%matplotlib inline\n",
    "%config InlineBackend.figure_format = 'retina'\n",
    "\n",
    "import numpy as np\n",
    "import torch\n",
    "\n",
    "import helper\n",
    "\n",
    "import matplotlib.pyplot as plt"
   ]
  },
  {
   "cell_type": "markdown",
   "metadata": {},
   "source": [
    "\n",
    "Now we're going to build a larger network that can solve a (formerly) difficult problem, identifying text in an image. Here we'll use the MNIST dataset which consists of greyscale handwritten digits. Each image is 28x28 pixels, you can see a sample below\n",
    "\n",
    "<img src='assets/mnist.png'>\n",
    "\n",
    "Our goal is to build a neural network that can take one of these images and predict the digit in the image.\n",
    "\n",
    "First up, we need to get our dataset. This is provided through the `torchvision` package. The code below will download the MNIST dataset, then create training and test datasets for us. Don't worry too much about the details here, you'll learn more about this later."
   ]
  },
  {
   "cell_type": "code",
   "execution_count": 5,
   "metadata": {},
   "outputs": [],
   "source": [
    "### Run this cell\n",
    "\n",
    "from torchvision import datasets, transforms\n",
    "\n",
    "# Define a transform to normalize the data\n",
    "transform = transforms.Compose([transforms.ToTensor(),\n",
    "                              transforms.Normalize((0.5,), (0.5,)),\n",
    "                              ])\n",
    "\n",
    "# Download and load the training data\n",
    "trainset = datasets.MNIST('~/.pytorch/MNIST_data/', download=True, train=True, transform=transform)\n",
    "trainloader = torch.utils.data.DataLoader(trainset, batch_size=64, shuffle=True)"
   ]
  },
  {
   "cell_type": "markdown",
   "metadata": {},
   "source": [
    "We have the training data loaded into `trainloader` and we make that an iterator with `iter(trainloader)`. Later, we'll use this to loop through the dataset for training, like\n",
    "\n",
    "```python\n",
    "for image, label in trainloader:\n",
    "    ## do things with images and labels\n",
    "```\n",
    "\n",
    "You'll notice I created the `trainloader` with a batch size of 64, and `shuffle=True`. The batch size is the number of images we get in one iteration from the data loader and pass through our network, often called a *batch*. And `shuffle=True` tells it to shuffle the dataset every time we start going through the data loader again. But here I'm just grabbing the first batch so we can check out the data. We can see below that `images` is just a tensor with size `(64, 1, 28, 28)`. So, 64 images per batch, 1 color channel, and 28x28 images."
   ]
  },
  {
   "cell_type": "code",
   "execution_count": 6,
   "metadata": {},
   "outputs": [
    {
     "name": "stdout",
     "output_type": "stream",
     "text": [
      "<class 'torch.Tensor'>\n",
      "torch.Size([64, 1, 28, 28])\n",
      "torch.Size([64])\n"
     ]
    }
   ],
   "source": [
    "dataiter = iter(trainloader)\n",
    "images, labels = next(dataiter)\n",
    "print(type(images))\n",
    "print(images.shape)\n",
    "print(labels.shape)"
   ]
  },
  {
   "cell_type": "markdown",
   "metadata": {},
   "source": [
    "This is what one of the images looks like. "
   ]
  },
  {
   "cell_type": "code",
   "execution_count": 7,
   "metadata": {},
   "outputs": [
    {
     "data": {
      "image/png": "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\n",
      "text/plain": [
       "<Figure size 640x480 with 1 Axes>"
      ]
     },
     "metadata": {
      "image/png": {
       "height": 413,
       "width": 416
      }
     },
     "output_type": "display_data"
    }
   ],
   "source": [
    "plt.imshow(images[1].numpy().squeeze(), cmap='Greys_r');"
   ]
  },
  {
   "cell_type": "markdown",
   "metadata": {},
   "source": [
    "First, let's try to build a simple network for this dataset using weight matrices and matrix multiplications. Then, we'll see how to do it using PyTorch's `nn` module which provides a much more convenient and powerful method for defining network architectures.\n",
    "\n",
    "The networks you've seen so far are called *fully-connected* or *dense* networks. Each unit in one layer is connected to each unit in the next layer. In fully-connected networks, the input to each layer must be a one-dimensional vector (which can be stacked into a 2D tensor as a batch of multiple examples). However, our images are 28x28 2D tensors, so we need to convert them into 1D vectors. Thinking about sizes, we need to convert the batch of images with shape `(64, 1, 28, 28)` to a have a shape of `(64, 784)`, 784 is 28 times 28. This is typically called *flattening*, we flattened the 2D images into 1D vectors.\n",
    "\n",
    "Previously you built a network with one output unit. Here we need 10 output units, one for each digit. We want our network to predict the digit shown in an image, so what we'll do is calculate probabilities that the image is of any one digit or class. This ends up being a discrete probability distribution over the classes (digits) that tells us the most likely class for the image. That means we need 10 output units for the 10 classes (digits). We'll see how to convert the network output into a probability distribution next.\n",
    "\n",
    "> **Exercise:** Flatten the batch of images `images`. Then build a multi-layer network with 784 input units, 256 hidden units, and 10 output units using random tensors for the weights and biases. For now, use a sigmoid activation for the hidden layer. Leave the output layer without an activation, we'll add one that gives us a probability distribution next."
   ]
  },
  {
   "cell_type": "code",
   "execution_count": 10,
   "metadata": {},
   "outputs": [],
   "source": [
    "## Your solution   \n",
    "\n",
    "## Activation function\n",
    "def activation(x):\n",
    "    \"\"\" Sigmoid activation function \n",
    "        Arguments\n",
    "        ---------\n",
    "        x: torch.Tensor\n",
    "    \"\"\"\n",
    "    return 1/(1+torch.exp(-x))\n",
    "\n",
    "### Neural network\n",
    "def multi_Layer_NW(inputUnits, hiddenUnits, outputUnits):\n",
    "    torch.manual_seed(7) # Set the random seed so things are predictable\n",
    "\n",
    "    # Define the size of each layer in our network\n",
    "    n_input = inputUnits     # Number of input units, must match number of input features\n",
    "    n_hidden = hiddenUnits   # Number of hidden units \n",
    "    n_output = outputUnits   # Number of output units\n",
    "\n",
    "    # Weights for inputs to hidden layer\n",
    "    W1 = torch.randn(n_input, n_hidden)\n",
    "    # Weights for hidden layer to output layer\n",
    "    W2 = torch.randn(n_hidden, n_output)\n",
    "\n",
    "    # and bias terms for hidden and output layers\n",
    "    B1 = torch.randn((1, n_hidden))\n",
    "    B2 = torch.randn((1, n_output))\n",
    "\n",
    "    return W1,W2,B1,B2\n",
    "\n",
    "def calc_output(features,W1,W2,B1,B2):\n",
    "    h = activation(torch.matmul(features,W1).add_(B1))\n",
    "    output = activation(torch.matmul(h,W2).add_(B2))\n",
    "    return output\n",
    "\n",
    "# Features are flattened batch input\n",
    "features = torch.flatten(images,start_dim=1)\n",
    "# Build a multi-layer network with 784 input units, 256 hidden units, and 10 output \n",
    "W1,W2,B1,B2 = multi_Layer_NW(features.shape[1],256,10)\n",
    "\n",
    "out = calc_output(features,W1,W2,B1,B2) # output of your network, should have shape (64,10)"
   ]
  },
  {
   "cell_type": "markdown",
   "metadata": {},
   "source": [
    "Now we have 10 outputs for our network. We want to pass in an image to our network and get out a probability distribution over the classes that tells us the likely class(es) the image belongs to. Something that looks like this:\n",
    "<img src='assets/image_distribution.png' width=500px>\n",
    "\n",
    "Here we see that the probability for each class is roughly the same. This is representing an untrained network, it hasn't seen any data yet so it just returns a uniform distribution with equal probabilities for each class.\n",
    "\n",
    "To calculate this probability distribution, we often use the [**softmax** function](https://en.wikipedia.org/wiki/Softmax_function). Mathematically this looks like\n",
    "\n",
    "$$\n",
    "\\Large \\sigma(x_i) = \\cfrac{e^{x_i}}{\\sum_k^K{e^{x_k}}}\n",
    "$$\n",
    "\n",
    "What this does is squish each input $x_i$ between 0 and 1 and normalizes the values to give you a proper probability distribution where the probabilites sum up to one.\n",
    "\n",
    "> **Exercise:** Implement a function `softmax` that performs the softmax calculation and returns probability distributions for each example in the batch. Note that you'll need to pay attention to the shapes when doing this. If you have a tensor `a` with shape `(64, 10)` and a tensor `b` with shape `(64,)`, doing `a/b` will give you an error because PyTorch will try to do the division across the columns (called broadcasting) but you'll get a size mismatch. The way to think about this is for each of the 64 examples, you only want to divide by one value, the sum in the denominator. So you need `b` to have a shape of `(64, 1)`. This way PyTorch will divide the 10 values in each row of `a` by the one value in each row of `b`. Pay attention to how you take the sum as well. You'll need to define the `dim` keyword in `torch.sum`. Setting `dim=0` takes the sum across the rows while `dim=1` takes the sum across the columns."
   ]
  },
  {
   "cell_type": "code",
   "execution_count": 39,
   "metadata": {},
   "outputs": [
    {
     "name": "stdout",
     "output_type": "stream",
     "text": [
      "torch.Size([64, 10])\n",
      "tensor([1.0000, 1.0000, 1.0000, 1.0000, 1.0000, 1.0000, 1.0000, 1.0000, 1.0000,\n",
      "        1.0000, 1.0000, 1.0000, 1.0000, 1.0000, 1.0000, 1.0000, 1.0000, 1.0000,\n",
      "        1.0000, 1.0000, 1.0000, 1.0000, 1.0000, 1.0000, 1.0000, 1.0000, 1.0000,\n",
      "        1.0000, 1.0000, 1.0000, 1.0000, 1.0000, 1.0000, 1.0000, 1.0000, 1.0000,\n",
      "        1.0000, 1.0000, 1.0000, 1.0000, 1.0000, 1.0000, 1.0000, 1.0000, 1.0000,\n",
      "        1.0000, 1.0000, 1.0000, 1.0000, 1.0000, 1.0000, 1.0000, 1.0000, 1.0000,\n",
      "        1.0000, 1.0000, 1.0000, 1.0000, 1.0000, 1.0000, 1.0000, 1.0000, 1.0000,\n",
      "        1.0000])\n"
     ]
    }
   ],
   "source": [
    "def softmax(x):\n",
    "    ## TODO: Implement the softmax function here\n",
    "    #means = torch.mean(x, 1, keepdim=True)[0]\n",
    "    x_exp = torch.exp(x)\n",
    "    x_exp_sum = torch.sum(x_exp, 1, keepdim=True)\n",
    "\n",
    "    return x_exp/x_exp_sum\n",
    "\n",
    "# Here, out should be the output of the network in the previous excercise with shape (64,10)\n",
    "probabilities = softmax(out)\n",
    "\n",
    "# Does it have the right shape? Should be (64, 10)\n",
    "print(probabilities.shape)\n",
    "# Does it sum to 1?\n",
    "print(probabilities.sum(dim=1))"
   ]
  },
  {
   "cell_type": "markdown",
   "metadata": {},
   "source": [
    "## Building networks with PyTorch\n",
    "\n",
    "PyTorch provides a module `nn` that makes building networks much simpler. Here I'll show you how to build the same one as above with 784 inputs, 256 hidden units, 10 output units and a softmax output."
   ]
  },
  {
   "cell_type": "code",
   "execution_count": 50,
   "metadata": {},
   "outputs": [],
   "source": [
    "from torch import nn"
   ]
  },
  {
   "cell_type": "code",
   "execution_count": 53,
   "metadata": {},
   "outputs": [],
   "source": [
    "class Network(nn.Module):\n",
    "    def __init__(self):\n",
    "        super().__init__()\n",
    "        \n",
    "        # Inputs to hidden layer linear transformation\n",
    "        self.hidden = nn.Linear(784, 256)\n",
    "        # Output layer, 10 units - one for each digit\n",
    "        self.output = nn.Linear(256, 10)\n",
    "        \n",
    "        # Define sigmoid activation and softmax output \n",
    "        self.sigmoid = nn.Sigmoid()\n",
    "        self.softmax = nn.Softmax(dim=1)\n",
    "        \n",
    "    def forward(self, x):\n",
    "        # Pass the input tensor through each of our operations\n",
    "        x = self.hidden(x)\n",
    "        x = self.sigmoid(x)\n",
    "        x = self.output(x)\n",
    "        x = self.softmax(x)\n",
    "        \n",
    "        return x"
   ]
  },
  {
   "cell_type": "markdown",
   "metadata": {},
   "source": [
    "Let's go through this bit by bit.\n",
    "\n",
    "```python\n",
    "class Network(nn.Module):\n",
    "```\n",
    "\n",
    "Here we're inheriting from `nn.Module`. Combined with `super().__init__()` this creates a class that tracks the architecture and provides a lot of useful methods and attributes. It is mandatory to inherit from `nn.Module` when you're creating a class for your network. The name of the class itself can be anything.\n",
    "\n",
    "```python\n",
    "self.hidden = nn.Linear(784, 256)\n",
    "```\n",
    "\n",
    "This line creates a module for a linear transformation, $x\\mathbf{W} + b$, with 784 inputs and 256 outputs and assigns it to `self.hidden`. The module automatically creates the weight and bias tensors which we'll use in the `forward` method. You can access the weight and bias tensors once the network (`net`) is created with `net.hidden.weight` and `net.hidden.bias`.\n",
    "\n",
    "```python\n",
    "self.output = nn.Linear(256, 10)\n",
    "```\n",
    "\n",
    "Similarly, this creates another linear transformation with 256 inputs and 10 outputs.\n",
    "\n",
    "```python\n",
    "self.sigmoid = nn.Sigmoid()\n",
    "self.softmax = nn.Softmax(dim=1)\n",
    "```\n",
    "\n",
    "Here I defined operations for the sigmoid activation and softmax output. Setting `dim=1` in `nn.Softmax(dim=1)` calculates softmax across the columns.\n",
    "\n",
    "```python\n",
    "def forward(self, x):\n",
    "```\n",
    "\n",
    "PyTorch networks created with `nn.Module` must have a `forward` method defined. It takes in a tensor `x` and passes it through the operations you defined in the `__init__` method.\n",
    "\n",
    "```python\n",
    "x = self.hidden(x)\n",
    "x = self.sigmoid(x)\n",
    "x = self.output(x)\n",
    "x = self.softmax(x)\n",
    "```\n",
    "\n",
    "Here the input tensor `x` is passed through each operation and reassigned to `x`. We can see that the input tensor goes through the hidden layer, then a sigmoid function, then the output layer, and finally the softmax function. It doesn't matter what you name the variables here, as long as the inputs and outputs of the operations match the network architecture you want to build. The order in which you define things in the `__init__` method doesn't matter, but you'll need to sequence the operations correctly in the `forward` method.\n",
    "\n",
    "Now we can create a `Network` object."
   ]
  },
  {
   "cell_type": "code",
   "execution_count": 54,
   "metadata": {},
   "outputs": [
    {
     "data": {
      "text/plain": [
       "Network(\n",
       "  (hidden): Linear(in_features=784, out_features=256, bias=True)\n",
       "  (output): Linear(in_features=256, out_features=10, bias=True)\n",
       "  (sigmoid): Sigmoid()\n",
       "  (softmax): Softmax(dim=1)\n",
       ")"
      ]
     },
     "execution_count": 54,
     "metadata": {},
     "output_type": "execute_result"
    }
   ],
   "source": [
    "# Create the network and look at its text representation\n",
    "model = Network()\n",
    "model"
   ]
  },
  {
   "cell_type": "markdown",
   "metadata": {},
   "source": [
    "You can define the network somewhat more concisely and clearly using the `torch.nn.functional` module. This is the most common way you'll see networks defined as many operations are simple element-wise functions. We normally import this module as `F`, `import torch.nn.functional as F`."
   ]
  },
  {
   "cell_type": "code",
   "execution_count": 61,
   "metadata": {},
   "outputs": [],
   "source": [
    "import torch.nn.functional as F\n",
    "\n",
    "class Network(nn.Module):\n",
    "    def __init__(self):\n",
    "        super().__init__()\n",
    "        # Inputs to hidden layer linear transformation\n",
    "        self.hidden = nn.Linear(784, 256)\n",
    "        # Output layer, 10 units - one for each digit\n",
    "        self.output = nn.Linear(256, 10)\n",
    "        \n",
    "    def forward(self, x):\n",
    "        # Hidden layer with sigmoid activation\n",
    "        x = F.sigmoid(self.hidden(x))\n",
    "        # Output layer with softmax activation\n",
    "        x = F.softmax(self.output(x), dim=1)\n",
    "        \n",
    "        return x"
   ]
  },
  {
   "cell_type": "markdown",
   "metadata": {},
   "source": [
    "### Activation functions\n",
    "\n",
    "So far we've only been looking at the sigmoid activation function, but in general any function can be used as an activation function. The only requirement is that for a network to approximate a non-linear function, the activation functions must be non-linear. Here are a few more examples of common activation functions: Tanh (hyperbolic tangent), and ReLU (rectified linear unit).\n",
    "\n",
    "<img src=\"assets/activation.png\" width=700px>\n",
    "\n",
    "In practice, the ReLU function is used almost exclusively as the activation function for hidden layers."
   ]
  },
  {
   "cell_type": "markdown",
   "metadata": {},
   "source": [
    "### Your Turn to Build a Network\n",
    "\n",
    "<img src=\"assets/mlp_mnist.png\" width=600px>\n",
    "\n",
    "> **Exercise:** Create a network with 784 input units, a hidden layer with 128 units and a ReLU activation, then a hidden layer with 64 units and a ReLU activation, and finally an output layer with a softmax activation as shown above. You can use a ReLU activation with the `nn.ReLU` module or `F.relu` function.\n",
    "\n",
    "It's good practice to name your layers by their type of network, for instance 'fc' to represent a fully-connected layer. As you code your solution, use `fc1`, `fc2`, and `fc3` as your layer names."
   ]
  },
  {
   "cell_type": "code",
   "execution_count": 76,
   "metadata": {
    "scrolled": true
   },
   "outputs": [],
   "source": [
    "## Your solution here\n",
    "\n",
    "import torch.nn.functional as F\n",
    "\n",
    "class Network(nn.Module):\n",
    "    def __init__(self):\n",
    "        super().__init__()\n",
    "        # Inputs to hidden layer linear transformation\n",
    "        self.fc1 = nn.Linear(784, 128)\n",
    "        # Inputs to hidden layer linear transformation\n",
    "        self.fc2 = nn.Linear(128, 64)\n",
    "        # Output layer, 10 units - one for each digit\n",
    "        self.fc3 = nn.Linear(64, 10)\n",
    "        \n",
    "    def forward(self, x):\n",
    "        # Hidden layer with sigmoid activation\n",
    "        x = F.relu(self.fc1(x))\n",
    "        x = F.relu(self.fc2(x))\n",
    "        # Output layer with softmax activation\n",
    "        x = F.softmax(self.fc3(x), dim=1)\n",
    "        \n",
    "        return x"
   ]
  },
  {
   "cell_type": "code",
   "execution_count": 77,
   "metadata": {},
   "outputs": [
    {
     "data": {
      "text/plain": [
       "Network(\n",
       "  (fc1): Linear(in_features=784, out_features=128, bias=True)\n",
       "  (fc2): Linear(in_features=128, out_features=64, bias=True)\n",
       "  (fc3): Linear(in_features=64, out_features=10, bias=True)\n",
       ")"
      ]
     },
     "execution_count": 77,
     "metadata": {},
     "output_type": "execute_result"
    }
   ],
   "source": [
    "model = Network()\n",
    "model"
   ]
  },
  {
   "cell_type": "markdown",
   "metadata": {},
   "source": [
    "### Initializing weights and biases\n",
    "\n",
    "The weights and such are automatically initialized for you, but it's possible to customize how they are initialized. The weights and biases are tensors attached to the layer you defined, you can get them with `model.fc1.weight` for instance."
   ]
  },
  {
   "cell_type": "code",
   "execution_count": 78,
   "metadata": {},
   "outputs": [
    {
     "name": "stdout",
     "output_type": "stream",
     "text": [
      "Parameter containing:\n",
      "tensor([[ 0.0317,  0.0134, -0.0055,  ..., -0.0172, -0.0282,  0.0278],\n",
      "        [-0.0152, -0.0332, -0.0081,  ...,  0.0259,  0.0162, -0.0085],\n",
      "        [-0.0314,  0.0300,  0.0185,  ...,  0.0134, -0.0176,  0.0150],\n",
      "        ...,\n",
      "        [ 0.0249, -0.0151,  0.0326,  ...,  0.0303, -0.0194,  0.0338],\n",
      "        [ 0.0186,  0.0165, -0.0178,  ...,  0.0193,  0.0067, -0.0050],\n",
      "        [-0.0173, -0.0336,  0.0156,  ...,  0.0289, -0.0039, -0.0115]],\n",
      "       requires_grad=True)\n",
      "Parameter containing:\n",
      "tensor([-0.0307,  0.0233,  0.0014, -0.0136, -0.0138, -0.0103, -0.0122,  0.0270,\n",
      "         0.0335,  0.0034,  0.0025, -0.0168, -0.0221, -0.0351, -0.0202, -0.0347,\n",
      "        -0.0032, -0.0337, -0.0119, -0.0232, -0.0221,  0.0122, -0.0002,  0.0230,\n",
      "         0.0198, -0.0329,  0.0308,  0.0065, -0.0287,  0.0030, -0.0087, -0.0170,\n",
      "         0.0146, -0.0321, -0.0249, -0.0215,  0.0109,  0.0069, -0.0125, -0.0123,\n",
      "        -0.0317,  0.0066,  0.0181, -0.0098, -0.0242,  0.0070,  0.0237, -0.0314,\n",
      "        -0.0053, -0.0078,  0.0054,  0.0143, -0.0232,  0.0200,  0.0007,  0.0280,\n",
      "         0.0346,  0.0175, -0.0015,  0.0326,  0.0140,  0.0130, -0.0219, -0.0295,\n",
      "        -0.0232,  0.0292,  0.0254,  0.0109,  0.0043, -0.0236,  0.0069,  0.0338,\n",
      "        -0.0112, -0.0339, -0.0074, -0.0208,  0.0060,  0.0071,  0.0205, -0.0307,\n",
      "        -0.0127,  0.0334,  0.0012,  0.0283, -0.0084, -0.0182,  0.0152,  0.0154,\n",
      "         0.0249, -0.0005,  0.0113, -0.0185, -0.0161, -0.0174, -0.0348, -0.0237,\n",
      "         0.0071, -0.0082,  0.0023,  0.0263,  0.0190,  0.0015, -0.0060, -0.0120,\n",
      "        -0.0203,  0.0057, -0.0029,  0.0278,  0.0015, -0.0183, -0.0202,  0.0327,\n",
      "        -0.0253, -0.0273, -0.0325, -0.0068,  0.0248, -0.0255,  0.0265, -0.0299,\n",
      "         0.0058,  0.0318,  0.0222,  0.0334, -0.0349,  0.0175, -0.0241,  0.0158],\n",
      "       requires_grad=True)\n"
     ]
    }
   ],
   "source": [
    "print(model.fc1.weight)\n",
    "print(model.fc1.bias)"
   ]
  },
  {
   "cell_type": "markdown",
   "metadata": {},
   "source": [
    "For custom initialization, we want to modify these tensors in place. These are actually autograd *Variables*, so we need to get back the actual tensors with `model.fc1.weight.data`. Once we have the tensors, we can fill them with zeros (for biases) or random normal values."
   ]
  },
  {
   "cell_type": "code",
   "execution_count": 79,
   "metadata": {},
   "outputs": [
    {
     "data": {
      "text/plain": [
       "tensor([0., 0., 0., 0., 0., 0., 0., 0., 0., 0., 0., 0., 0., 0., 0., 0., 0., 0., 0., 0., 0., 0., 0., 0.,\n",
       "        0., 0., 0., 0., 0., 0., 0., 0., 0., 0., 0., 0., 0., 0., 0., 0., 0., 0., 0., 0., 0., 0., 0., 0.,\n",
       "        0., 0., 0., 0., 0., 0., 0., 0., 0., 0., 0., 0., 0., 0., 0., 0., 0., 0., 0., 0., 0., 0., 0., 0.,\n",
       "        0., 0., 0., 0., 0., 0., 0., 0., 0., 0., 0., 0., 0., 0., 0., 0., 0., 0., 0., 0., 0., 0., 0., 0.,\n",
       "        0., 0., 0., 0., 0., 0., 0., 0., 0., 0., 0., 0., 0., 0., 0., 0., 0., 0., 0., 0., 0., 0., 0., 0.,\n",
       "        0., 0., 0., 0., 0., 0., 0., 0.])"
      ]
     },
     "execution_count": 79,
     "metadata": {},
     "output_type": "execute_result"
    }
   ],
   "source": [
    "# Set biases to all zeros\n",
    "model.fc1.bias.data.fill_(0)"
   ]
  },
  {
   "cell_type": "code",
   "execution_count": 80,
   "metadata": {},
   "outputs": [
    {
     "data": {
      "text/plain": [
       "tensor([[ 0.0097, -0.0081,  0.0008,  ...,  0.0096, -0.0077, -0.0021],\n",
       "        [ 0.0125,  0.0066,  0.0099,  ..., -0.0073,  0.0036,  0.0029],\n",
       "        [-0.0140, -0.0107,  0.0195,  ...,  0.0099,  0.0002,  0.0106],\n",
       "        ...,\n",
       "        [-0.0055,  0.0063,  0.0032,  ..., -0.0124, -0.0143,  0.0149],\n",
       "        [-0.0053,  0.0023, -0.0086,  ..., -0.0183,  0.0010, -0.0032],\n",
       "        [ 0.0034,  0.0146,  0.0033,  ..., -0.0085, -0.0036, -0.0016]])"
      ]
     },
     "execution_count": 80,
     "metadata": {},
     "output_type": "execute_result"
    }
   ],
   "source": [
    "# sample from random normal with standard dev = 0.01\n",
    "model.fc1.weight.data.normal_(std=0.01)"
   ]
  },
  {
   "cell_type": "markdown",
   "metadata": {},
   "source": [
    "### Forward pass\n",
    "\n",
    "Now that we have a network, let's see what happens when we pass in an image."
   ]
  },
  {
   "cell_type": "code",
   "execution_count": 81,
   "metadata": {},
   "outputs": [
    {
     "data": {
      "image/png": "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\n",
      "text/plain": [
       "<Figure size 600x900 with 2 Axes>"
      ]
     },
     "metadata": {
      "image/png": {
       "height": 327,
       "width": 589
      }
     },
     "output_type": "display_data"
    }
   ],
   "source": [
    "# Grab some data \n",
    "dataiter = iter(trainloader)\n",
    "images, labels = next(dataiter)\n",
    "\n",
    "# Resize images into a 1D vector, new shape is (batch size, color channels, image pixels) \n",
    "images.resize_(64, 1, 784)\n",
    "# or images.resize_(images.shape[0], 1, 784) to automatically get batch size\n",
    "\n",
    "# Forward pass through the network\n",
    "img_idx = 0\n",
    "ps = model.forward(images[img_idx,:])\n",
    "\n",
    "img = images[img_idx]\n",
    "helper.view_classify(img.view(1, 28, 28), ps)"
   ]
  },
  {
   "cell_type": "markdown",
   "metadata": {},
   "source": [
    "As you can see above, our network has basically no idea what this digit is. It's because we haven't trained it yet, all the weights are random!\n",
    "\n",
    "### Using `nn.Sequential`\n",
    "\n",
    "PyTorch provides a convenient way to build networks like this where a tensor is passed sequentially through operations, `nn.Sequential` ([documentation](https://pytorch.org/docs/master/nn.html#torch.nn.Sequential)). Using this to build the equivalent network:"
   ]
  },
  {
   "cell_type": "code",
   "execution_count": 82,
   "metadata": {},
   "outputs": [
    {
     "name": "stdout",
     "output_type": "stream",
     "text": [
      "Sequential(\n",
      "  (0): Linear(in_features=784, out_features=128, bias=True)\n",
      "  (1): ReLU()\n",
      "  (2): Linear(in_features=128, out_features=64, bias=True)\n",
      "  (3): ReLU()\n",
      "  (4): Linear(in_features=64, out_features=10, bias=True)\n",
      "  (5): Softmax(dim=1)\n",
      ")\n"
     ]
    },
    {
     "data": {
      "image/png": "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\n",
      "text/plain": [
       "<Figure size 600x900 with 2 Axes>"
      ]
     },
     "metadata": {
      "image/png": {
       "height": 327,
       "width": 589
      }
     },
     "output_type": "display_data"
    }
   ],
   "source": [
    "# Hyperparameters for our network\n",
    "input_size = 784\n",
    "hidden_sizes = [128, 64]\n",
    "output_size = 10\n",
    "\n",
    "# Build a feed-forward network\n",
    "model = nn.Sequential(nn.Linear(input_size, hidden_sizes[0]),\n",
    "                      nn.ReLU(),\n",
    "                      nn.Linear(hidden_sizes[0], hidden_sizes[1]),\n",
    "                      nn.ReLU(),\n",
    "                      nn.Linear(hidden_sizes[1], output_size),\n",
    "                      nn.Softmax(dim=1))\n",
    "print(model)\n",
    "\n",
    "# Forward pass through the network and display output\n",
    "images, labels = next(iter(trainloader))\n",
    "images.resize_(images.shape[0], 1, 784)\n",
    "ps = model.forward(images[0,:])\n",
    "helper.view_classify(images[0].view(1, 28, 28), ps)"
   ]
  },
  {
   "cell_type": "markdown",
   "metadata": {},
   "source": [
    "Here our model is the same as before: 784 input units, a hidden layer with 128 units, ReLU activation, 64 unit hidden layer, another ReLU, then the output layer with 10 units, and the softmax output.\n",
    "\n",
    "The operations are available by passing in the appropriate index. For example, if you want to get first Linear operation and look at the weights, you'd use `model[0]`."
   ]
  },
  {
   "cell_type": "code",
   "execution_count": 89,
   "metadata": {},
   "outputs": [
    {
     "name": "stdout",
     "output_type": "stream",
     "text": [
      "Linear(in_features=784, out_features=128, bias=True)\n"
     ]
    },
    {
     "data": {
      "text/plain": [
       "Parameter containing:\n",
       "tensor([[ 1.9330e-03,  2.7178e-02, -4.4777e-03,  ..., -1.3581e-02,\n",
       "         -7.8345e-03,  2.9064e-02],\n",
       "        [-7.5879e-03, -6.9296e-03,  2.0925e-02,  ...,  1.3404e-05,\n",
       "         -4.1603e-04, -1.3656e-02],\n",
       "        [-3.4479e-02,  7.4429e-04,  3.3630e-02,  ...,  1.5881e-02,\n",
       "         -7.2069e-04,  2.1396e-03],\n",
       "        ...,\n",
       "        [-8.1437e-03, -1.8015e-02,  4.5118e-03,  ..., -4.1202e-03,\n",
       "          1.4314e-02,  7.2874e-03],\n",
       "        [ 3.2015e-02,  2.2824e-02, -2.8731e-02,  ...,  1.4385e-02,\n",
       "         -3.5460e-02,  1.4798e-02],\n",
       "        [ 3.2726e-02, -2.2289e-02,  4.0229e-03,  ..., -8.6724e-03,\n",
       "         -2.5239e-02, -1.6366e-02]], requires_grad=True)"
      ]
     },
     "execution_count": 89,
     "metadata": {},
     "output_type": "execute_result"
    }
   ],
   "source": [
    "print(model[0])\n",
    "model[0].weight"
   ]
  },
  {
   "cell_type": "markdown",
   "metadata": {},
   "source": [
    "You can also pass in an `OrderedDict` to name the individual layers and operations, instead of using incremental integers. Note that dictionary keys must be unique, so _each operation must have a different name_."
   ]
  },
  {
   "cell_type": "code",
   "execution_count": 84,
   "metadata": {},
   "outputs": [
    {
     "data": {
      "text/plain": [
       "Sequential(\n",
       "  (fc1): Linear(in_features=784, out_features=128, bias=True)\n",
       "  (relu1): ReLU()\n",
       "  (fc2): Linear(in_features=128, out_features=64, bias=True)\n",
       "  (relu2): ReLU()\n",
       "  (output): Linear(in_features=64, out_features=10, bias=True)\n",
       "  (softmax): Softmax(dim=1)\n",
       ")"
      ]
     },
     "execution_count": 84,
     "metadata": {},
     "output_type": "execute_result"
    }
   ],
   "source": [
    "from collections import OrderedDict\n",
    "model = nn.Sequential(OrderedDict([\n",
    "                      ('fc1', nn.Linear(input_size, hidden_sizes[0])),\n",
    "                      ('relu1', nn.ReLU()),\n",
    "                      ('fc2', nn.Linear(hidden_sizes[0], hidden_sizes[1])),\n",
    "                      ('relu2', nn.ReLU()),\n",
    "                      ('output', nn.Linear(hidden_sizes[1], output_size)),\n",
    "                      ('softmax', nn.Softmax(dim=1))]))\n",
    "model"
   ]
  },
  {
   "cell_type": "markdown",
   "metadata": {},
   "source": [
    "Now you can access layers either by integer or the name"
   ]
  },
  {
   "cell_type": "code",
   "execution_count": 90,
   "metadata": {},
   "outputs": [
    {
     "name": "stdout",
     "output_type": "stream",
     "text": [
      "Linear(in_features=784, out_features=128, bias=True)\n",
      "Linear(in_features=784, out_features=128, bias=True)\n"
     ]
    }
   ],
   "source": [
    "print(model[0])\n",
    "print(model.fc1)"
   ]
  },
  {
   "cell_type": "markdown",
   "metadata": {},
   "source": [
    "In the next notebook, we'll see how we can train a neural network to accuractly predict the numbers appearing in the MNIST images."
   ]
  }
 ],
 "metadata": {
  "kernelspec": {
   "display_name": "base",
   "language": "python",
   "name": "python3"
  },
  "language_info": {
   "codemirror_mode": {
    "name": "ipython",
    "version": 3
   },
   "file_extension": ".py",
   "mimetype": "text/x-python",
   "name": "python",
   "nbconvert_exporter": "python",
   "pygments_lexer": "ipython3",
<<<<<<< HEAD
   "version": "3.9.12"
=======
   "version": "3.8.8 (default, Apr 13 2021, 15:08:03) [MSC v.1916 64 bit (AMD64)]"
  },
  "vscode": {
   "interpreter": {
    "hash": "ad2bdc8ecc057115af97d19610ffacc2b4e99fae6737bb82f5d7fb13d2f2c186"
   }
>>>>>>> c8e2686e9465309ac37aee99118648bc68927b33
  }
 },
 "nbformat": 4,
 "nbformat_minor": 2
}
